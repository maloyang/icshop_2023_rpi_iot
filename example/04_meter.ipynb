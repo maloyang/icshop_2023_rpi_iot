{
 "cells": [
  {
   "cell_type": "markdown",
   "id": "05401422-c790-41c3-becc-233c68481050",
   "metadata": {
    "tags": []
   },
   "source": [
    "# Meter應用\n",
    "\n",
    "## SPM3"
   ]
  },
  {
   "cell_type": "code",
   "execution_count": 1,
   "id": "b493e33f-22bc-426c-ae0f-170b62d40f14",
   "metadata": {},
   "outputs": [],
   "source": [
    "import serial\n",
    "import modbus_tk\n",
    "import modbus_tk.defines as cst\n",
    "import modbus_tk.modbus_rtu as modbus_rtu\n",
    "import time\n",
    "from struct import *"
   ]
  },
  {
   "cell_type": "code",
   "execution_count": 2,
   "id": "e00c8333-e338-4051-82d4-44e82456c472",
   "metadata": {},
   "outputs": [],
   "source": [
    "mbComPort = 'COM5' #your RS-485 port #'/dev/ttyUSB0' for linux(RPi3)\n",
    "baudrate = 9600\n",
    "databit = 8\n",
    "parity = 'N'\n",
    "stopbit = 1\n",
    "mbTimeout = 100 # ms"
   ]
  },
  {
   "cell_type": "markdown",
   "id": "cdc057ac-8ef6-4b82-8134-e89100571cb6",
   "metadata": {},
   "source": [
    "![img](spm3_modbus_Vin.gif)"
   ]
  },
  {
   "cell_type": "code",
   "execution_count": 1,
   "id": "bf931afd-dac4-4df9-834c-c51a5dbbc7b4",
   "metadata": {},
   "outputs": [
    {
     "data": {
      "text/plain": [
       "4096"
      ]
     },
     "execution_count": 1,
     "metadata": {},
     "output_type": "execute_result"
    }
   ],
   "source": [
    "# 0x1000\n",
    "0x1000"
   ]
  },
  {
   "cell_type": "code",
   "execution_count": null,
   "id": "34ff73c1-7252-4e25-a13f-19d6c17f22da",
   "metadata": {},
   "outputs": [],
   "source": [
    "# 讀回 V_avg\n",
    "\n",
    "mb_port = serial.Serial(port=mbComPort, baudrate=baudrate, bytesize=databit, parity=parity, stopbits=stopbit)\n",
    "master = modbus_rtu.RtuMaster(mb_port)\n",
    "master.set_timeout(mbTimeout/1000.0)\n",
    "\n",
    "mbId = 1\n",
    "addr = 4100 # base 0\n",
    "\n",
    "try:\n",
    "    # FC3\n",
    "    rr = master.execute(mbId, cst.READ_INPUT_REGISTERS, addr, 100)\n",
    "    print('read value:', rr)\n",
    "\n",
    "    # convert to float:\n",
    "    # IEEE754 ==> (Hi word Hi Bite, Hi word Lo Byte, Lo word Hi Byte, Lo word Lo Byte)\n",
    "    try:\n",
    "        ac_v = unpack('>f', pack('>HH', rr[3], rr[2]))[0] # Vin_avg\n",
    "        print('ac_v=', ac_v)\n",
    "    except Exception as e:\n",
    "        print(e)\n",
    "\n",
    "except Exception as e:\n",
    "    print(\"modbus test Error: \" + str(e))\n",
    "\n",
    "\n",
    "master._do_close()"
   ]
  },
  {
   "cell_type": "code",
   "execution_count": null,
   "id": "85c9fb48-ad5f-4884-ad17-95f5440c0ea7",
   "metadata": {},
   "outputs": [],
   "source": [
    "# 一次讀回一整片\n",
    "\n",
    "addr = 4100\n",
    "try:\n",
    "    rr = master.execute(mb_id, cst.ANALOG_INPUTS, addr, 100)\n",
    "    print('rr=', rr)\n",
    "    print('----')\n",
    "    data_list = list()\n",
    "    for i in range(len(rr)//2):\n",
    "        value = unpack('>f', pack('>HH', rr[i*2+1], rr[i*2]))[0]\n",
    "        data_list.append(value)\n",
    "    print(data_list)\n",
    "    print('----')\n",
    "\n",
    "    # ac_v_avg\n",
    "    data['ac_v'] = unpack('>f', pack('>HH', rr[3], rr[2]))[0]\n",
    "    # ac_i_avg\n",
    "    data['ac_a'] = unpack('>f', pack('>HH', rr[19], rr[18]))[0]\n",
    "    # freq\n",
    "    data['freq'] = unpack('>f', pack('>HH', rr[21], rr[20]))[0]\n",
    "    # power (kw_total)\n",
    "    data['power'] = unpack('>f', pack('>HH', rr[29], rr[28]))[0]\n",
    "    # pf\n",
    "    data['pf'] = unpack('>f', pack('>HH', rr[47], rr[46]))[0]\n",
    "    # kWh\n",
    "    data['kwh'] = unpack('>f', pack('>HH', rr[49], rr[48]))[0]\n",
    "\n",
    "    print(data)\n",
    "    break #success-->exit to next\n",
    "except Exception as e:\n",
    "    print('poll error', e)\n",
    "\n",
    "master._do_close()\n"
   ]
  }
 ],
 "metadata": {
  "kernelspec": {
   "display_name": "Python 3 (ipykernel)",
   "language": "python",
   "name": "python3"
  },
  "language_info": {
   "codemirror_mode": {
    "name": "ipython",
    "version": 3
   },
   "file_extension": ".py",
   "mimetype": "text/x-python",
   "name": "python",
   "nbconvert_exporter": "python",
   "pygments_lexer": "ipython3",
   "version": "3.9.12"
  }
 },
 "nbformat": 4,
 "nbformat_minor": 5
}
