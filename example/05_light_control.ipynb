{
 "cells": [
  {
   "cell_type": "markdown",
   "id": "fb91e916-c55a-4be4-b17a-481fea57c7be",
   "metadata": {},
   "source": [
    "# 燈控器\n",
    "\n",
    "## 使用Modbus控制燈控器"
   ]
  },
  {
   "cell_type": "markdown",
   "id": "00320606-e94e-457a-b82d-258d40c2a183",
   "metadata": {},
   "source": [
    "![img](lc103h_modbus_do.gif)"
   ]
  },
  {
   "cell_type": "code",
   "execution_count": null,
   "id": "5f1e3dfc-606f-45d3-a454-42eb253cf2f5",
   "metadata": {},
   "outputs": [],
   "source": [
    "import serial\n",
    "import modbus_tk\n",
    "import modbus_tk.defines as cst\n",
    "import modbus_tk.modbus_rtu as modbus_rtu\n",
    "import time\n",
    "from struct import *\n",
    "\n",
    "\n",
    "comport = 'COM7' # for linux: '/dev/ttyUSB0'\n",
    "baudrate = 9600\n",
    "databit = 8\n",
    "parity = 'N'\n",
    "stopbit = 1\n",
    "timeout = 100 # ms\n",
    "\n",
    "mb_port = serial.Serial(port=comport, baudrate=baudrate, bytesize=databit, parity=parity, stopbits=stopbit)\n",
    "master = modbus_rtu.RtuMaster(mb_port)\n",
    "master.set_timeout(timeout/1000.0)\n",
    "\n",
    "mb_id = 1\n",
    "addr = 0\n",
    "value = 1\n",
    "\n",
    "try:\n",
    "    rr = master.execute(mb_id, cst.WRITE_SINGLE_COIL, addr, output_value=value)\n",
    "    print(\"Write(addr, value)=%s\" %(str(rr)))\n",
    "\n",
    "except Exception as e:#Exception, e:\n",
    "    print(\"modbus test Error: \" + str(e))\n",
    "\n",
    "master._do_close()\n"
   ]
  },
  {
   "cell_type": "markdown",
   "id": "12b3f036-0e2d-4d38-b47e-2990cd8e726e",
   "metadata": {},
   "source": [
    "----\n",
    "## 使用MQTT控制電燈"
   ]
  },
  {
   "cell_type": "code",
   "execution_count": null,
   "id": "c58680a8-5f23-44ed-be43-ed093e08b4c5",
   "metadata": {},
   "outputs": [],
   "source": [
    "# push mqtt msg\n",
    "\n",
    "import paho.mqtt.client as mqtt\n",
    "import time, json, datetime, sys, os\n",
    "import random\n",
    "\n",
    "def on_connect(client, userdata, flags, rc):\n",
    "    m=\"Connected flags\"+str(flags)+\", result code \"+str(rc)+\", client_id  \"+str(client)\n",
    "    print(m)\n",
    "\n",
    "# some online free broker:\n",
    "#   iot.eclipse.org\n",
    "#   test.mosquitto.org\n",
    "#   broker.hivemq.com\n",
    "broker_address = \"broker.hivemq.com\"\n",
    "broker_port = 1883\n",
    "\n",
    "client1 = mqtt.Client()    #create new instance\n",
    "client1.on_connect = on_connect        #attach function to callback\n",
    "\n",
    "time.sleep(0.5)\n",
    "client1.connect(host=broker_address, port=broker_port, keepalive=60)      #connect to broker\n",
    "topic_str = '/malo/icshop/light'\n",
    "        \n",
    "client1.loop_start()    #start the loop\n",
    "time.sleep(0.5)\n",
    "print(\"loop start\")\n",
    "\n",
    "#-- start to push data\n",
    "for k in range(1, 7):\n",
    "    value = k%2\n",
    "    print('--> push', topic_str, value)\n",
    "    client1.publish(topic_str, value, qos=1)\n",
    "    time.sleep(5)\n",
    "\n",
    "time.sleep(0.1)\n",
    "\n",
    "client1.disconnect()\n"
   ]
  }
 ],
 "metadata": {
  "kernelspec": {
   "display_name": "Python 3 (ipykernel)",
   "language": "python",
   "name": "python3"
  },
  "language_info": {
   "codemirror_mode": {
    "name": "ipython",
    "version": 3
   },
   "file_extension": ".py",
   "mimetype": "text/x-python",
   "name": "python",
   "nbconvert_exporter": "python",
   "pygments_lexer": "ipython3",
   "version": "3.9.12"
  }
 },
 "nbformat": 4,
 "nbformat_minor": 5
}
