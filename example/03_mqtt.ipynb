{
 "cells": [
  {
   "cell_type": "markdown",
   "id": "6f5002db-b497-4daa-8436-5b0f77efc894",
   "metadata": {},
   "source": [
    "# MQTT應用\n",
    "\n",
    "以Python程式來傳送MQTT資訊，我們採用paho-mqtt的套件來達成"
   ]
  },
  {
   "cell_type": "markdown",
   "id": "ef900c47-6508-4dbf-92d1-ec7c91c06887",
   "metadata": {},
   "source": [
    "- MQTT (Message Queue Telemetry Transport)\n",
    "- 為M2M, IOT設計的協定，基於TCP socket，主要是想讓系統資源較低的設備也可以把資料上傳到Server。\n",
    "- 目前已是ISO的一員:\n",
    "    - 2016, MQTT is now an ISO standard (ISO/IEC 20922)\n",
    "    "
   ]
  },
  {
   "cell_type": "markdown",
   "id": "50e49afa-4e1c-445d-aa67-907f5d75ee67",
   "metadata": {},
   "source": [
    "----\n",
    "### subscribe 訂閱資訊\n",
    "\n",
    "以下範例會等待30秒，持續接收所訂閱的資料"
   ]
  },
  {
   "cell_type": "code",
   "execution_count": null,
   "id": "1558c7db-08c1-44e5-b265-0976f88a6652",
   "metadata": {},
   "outputs": [],
   "source": [
    "import paho.mqtt.client as mqtt\n",
    "import time, json, datetime, sys, os\n",
    "\n",
    "#==================\n",
    "#== MQTT Functions\n",
    "\n",
    "# 當地端程式連線伺服器得到回應時，要做的動作\n",
    "def on_connect(client, userdata, flags, rc):\n",
    "    print(\"Connected with result code \"+str(rc))\n",
    "    # 將訂閱主題寫在on_connet中\n",
    "    # 如果我們失去連線或重新連線時 \n",
    "    # 地端程式將會重新訂閱\n",
    "    client.subscribe('/malo/icshop/temp')\n",
    "    \n",
    "\n",
    "# 當接收到從伺服器發送的訊息時要進行的動作\n",
    "def on_message(client, userdata, msg):\n",
    "    # 轉換編碼utf-8才看得懂中文\n",
    "    try:\n",
    "        topic = msg.topic\n",
    "        value = msg.payload.decode('utf-8')\n",
    "        dtime = time.strftime(\"%Y-%m-%d %H:%M:%S\", time.localtime())\n",
    "        print('(topic, value)=(%s, %s) @%s' %(topic, value, dtime))\n",
    "    except Exception as e:\n",
    "        print('read data exception: ', str(e))\n",
    "\n",
    "def run_mqtt():\n",
    "    try:\n",
    "        # 連線設定\n",
    "        # 初始化地端程式\n",
    "        client = mqtt.Client()\n",
    "\n",
    "        # 設定連線的動作\n",
    "        client.on_connect = on_connect\n",
    "\n",
    "        # 設定接收訊息的動作\n",
    "        client.on_message = on_message\n",
    "\n",
    "        # 設定登入帳號密碼\n",
    "        #client.username_pw_set(\"try\",\"xxxx\")\n",
    "\n",
    "        # 設定連線資訊(IP, Port, 連線時間)\n",
    "        client.connect(\"broker.hivemq.com\", 1883, 60)\n",
    "\n",
    "        # 開始連線，執行設定的動作和處理重新連線問題\n",
    "        # 也可以手動使用其他loop函式來進行連接\n",
    "        #client.loop_forever()\n",
    "        client.loop_start()    #start the loop\n",
    "\n",
    "        time.sleep(30)\n",
    "\n",
    "        client.disconnect() # disconnect gracefully\n",
    "        client.loop_stop() # stops network loop\n",
    "        \n",
    "    except Exception as e:\n",
    "        print('run mqtt error: ', str(e))\n",
    "\n",
    "run_mqtt()\n"
   ]
  },
  {
   "cell_type": "markdown",
   "id": "ea322ec4-a5e5-43f8-95a3-1045f2242d05",
   "metadata": {},
   "source": [
    "----\n",
    "### 發送MQTT訊息: Push"
   ]
  },
  {
   "cell_type": "code",
   "execution_count": null,
   "id": "d57cba10-ae15-4595-b65b-c367a601ec43",
   "metadata": {},
   "outputs": [],
   "source": [
    "# push mqtt msg\n",
    "\n",
    "import paho.mqtt.client as mqtt\n",
    "import time, json, datetime, sys, os\n",
    "import random\n",
    "\n",
    "def on_connect(client, userdata, flags, rc):\n",
    "    m=\"Connected flags\"+str(flags)+\", result code \"+str(rc)+\", client_id  \"+str(client)\n",
    "    print(m)\n",
    "\n",
    "# some online free broker:\n",
    "#   iot.eclipse.org\n",
    "#   test.mosquitto.org\n",
    "#   broker.hivemq.com\n",
    "broker_address = \"broker.hivemq.com\"\n",
    "broker_port = 1883\n",
    "\n",
    "client1 = mqtt.Client()    #create new instance\n",
    "client1.on_connect = on_connect        #attach function to callback\n",
    "\n",
    "time.sleep(0.5)\n",
    "client1.connect(host=broker_address, port=broker_port, keepalive=60)      #connect to broker\n",
    "topic_str = '/malo/icshop/temp'\n",
    "\n",
    "client1.loop_start()    #start the loop\n",
    "time.sleep(0.5)\n",
    "print(\"loop start\")\n",
    "\n",
    "#-- start to push data\n",
    "for k in range(10):\n",
    "    temp = 25 + random.randint(-3, 3)\n",
    "    print('--> push', topic_str, temp)\n",
    "    client1.publish(topic_str, temp, qos=1)\n",
    "    time.sleep(5)\n",
    "\n",
    "time.sleep(0.1)\n",
    "\n",
    "client1.disconnect()\n"
   ]
  },
  {
   "cell_type": "markdown",
   "id": "dcbd8b67-0a2f-493d-8488-899d19007bc4",
   "metadata": {},
   "source": [
    "----\n",
    "### 請二人一組，訂義自己小組的訊息主題 (Topic)，一人接收，一人發送，確認資訊是否正確傳達"
   ]
  },
  {
   "cell_type": "code",
   "execution_count": null,
   "id": "939fae4c-0123-4863-9e6b-010edec5dcb9",
   "metadata": {},
   "outputs": [],
   "source": []
  }
 ],
 "metadata": {
  "kernelspec": {
   "display_name": "Python 3 (ipykernel)",
   "language": "python",
   "name": "python3"
  },
  "language_info": {
   "codemirror_mode": {
    "name": "ipython",
    "version": 3
   },
   "file_extension": ".py",
   "mimetype": "text/x-python",
   "name": "python",
   "nbconvert_exporter": "python",
   "pygments_lexer": "ipython3",
   "version": "3.9.12"
  }
 },
 "nbformat": 4,
 "nbformat_minor": 5
}
